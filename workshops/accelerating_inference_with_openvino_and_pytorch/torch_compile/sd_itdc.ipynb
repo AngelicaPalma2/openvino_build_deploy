{
 "cells": [
  {
   "attachments": {},
   "cell_type": "markdown",
   "id": "0a465fbf",
   "metadata": {},
   "source": [
    "# Stable Diffusion 1.5 using torch.compile with OpenVINO backend"
   ]
  },
  {
   "cell_type": "code",
   "execution_count": null,
   "id": "ec2a1a2a",
   "metadata": {},
   "outputs": [],
   "source": [
    "import sys"
   ]
  },
  {
   "cell_type": "code",
   "execution_count": null,
   "id": "2b4af452",
   "metadata": {},
   "outputs": [],
   "source": [
    "import torch\n",
    "from diffusers import StableDiffusionPipeline\n",
    "import openvino.frontend.pytorch.torchdynamo.backend\n",
    "import time\n",
    "import os"
   ]
  },
  {
   "cell_type": "code",
   "execution_count": null,
   "id": "6960adc6",
   "metadata": {},
   "outputs": [],
   "source": [
    "import warnings\n",
    "warnings.filterwarnings(\"ignore\")"
   ]
  },
  {
   "attachments": {},
   "cell_type": "markdown",
   "id": "2857b2f8",
   "metadata": {},
   "source": [
    "### Using full precision (FP32) model in CPU with `StableDiffusionPipeline`\n",
    "[back to top ⬆️](#Table-of-contents:)"
   ]
  },
  {
   "cell_type": "code",
   "execution_count": null,
   "id": "17c23ab9",
   "metadata": {},
   "outputs": [],
   "source": [
    "generator = torch.Generator(\"cpu\").manual_seed(1024)\n",
    "model_id = \"runwayml/stable-diffusion-v1-5\"\n",
    "pipe = StableDiffusionPipeline.from_pretrained(model_id, torch_dtype=torch.float32)\n",
    "pipe.unet = torch.compile(pipe.unet, backend=\"openvino\")\n",
    "pipe.vae.decode = torch.compile(pipe.vae.decode, backend=\"openvino\")    "
   ]
  },
  {
   "cell_type": "code",
   "execution_count": null,
   "id": "78a475fa",
   "metadata": {},
   "outputs": [],
   "source": [
    "prompt = \"A cute squirrel in the forest, portrait, 8k\"\n",
    "start_time = time.time()\n",
    "image = pipe(prompt, num_inference_steps=50, generator=generator).images[0]\n",
    "end_time = time.time()\n",
    "print(\"Time taken: \", end_time - start_time)   \n",
    "image"
   ]
  }
 ],
 "metadata": {
  "kernelspec": {
   "display_name": "Python 3 (ipykernel)",
   "language": "python",
   "name": "python3"
  },
  "language_info": {
   "codemirror_mode": {
    "name": "ipython",
    "version": 3
   },
   "file_extension": ".py",
   "mimetype": "text/x-python",
   "name": "python",
   "nbconvert_exporter": "python",
   "pygments_lexer": "ipython3",
   "version": "3.10.11"
  },
  "openvino_notebooks": {
   "imageUrl": "https://github.com/openvinotoolkit/openvino_notebooks/blob/latest/notebooks/stable-diffusion-v2/stable-diffusion-v2-optimum-demo.png?raw=true",
   "tags": {
    "categories": [
     "Model Demos",
     "AI Trends"
    ],
    "libraries": [],
    "other": [],
    "tasks": [
     "Text-to-Image"
    ]
   }
  },
  "widgets": {
   "application/vnd.jupyter.widget-state+json": {
    "state": {},
    "version_major": 2,
    "version_minor": 0
   }
  }
 },
 "nbformat": 4,
 "nbformat_minor": 5
}
